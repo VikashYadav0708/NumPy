{
 "cells": [
  {
   "cell_type": "markdown",
   "id": "2b2088c2",
   "metadata": {},
   "source": [
    "# NumPy Array functions"
   ]
  },
  {
   "cell_type": "code",
   "execution_count": 1,
   "id": "34b64c11",
   "metadata": {},
   "outputs": [],
   "source": [
    "import numpy as np"
   ]
  },
  {
   "cell_type": "code",
   "execution_count": 4,
   "id": "2731aed0",
   "metadata": {},
   "outputs": [
    {
     "name": "stdout",
     "output_type": "stream",
     "text": [
      "<class 'numpy.ndarray'>\n"
     ]
    }
   ],
   "source": [
    "#List to Numpy Array and printing the type of variable x\n",
    "x = np.array([1,2,3,4])\n",
    "print(type(x))"
   ]
  },
  {
   "cell_type": "code",
   "execution_count": 5,
   "id": "6a476463",
   "metadata": {},
   "outputs": [
    {
     "name": "stdout",
     "output_type": "stream",
     "text": [
      "[1 2 3 4]\n"
     ]
    }
   ],
   "source": [
    "print(x)"
   ]
  },
  {
   "cell_type": "code",
   "execution_count": 6,
   "id": "c35b0099",
   "metadata": {},
   "outputs": [
    {
     "name": "stdout",
     "output_type": "stream",
     "text": [
      "<class 'list'>\n"
     ]
    }
   ],
   "source": [
    "list = [1,2,3,4]\n",
    "print(type(list))"
   ]
  },
  {
   "cell_type": "code",
   "execution_count": 8,
   "id": "ad029547",
   "metadata": {},
   "outputs": [
    {
     "name": "stdout",
     "output_type": "stream",
     "text": [
      "4.03 µs ± 254 ns per loop (mean ± std. dev. of 7 runs, 100000 loops each)\n"
     ]
    }
   ],
   "source": [
    "#checking the time taken by list and NumPy array\n",
    "\n",
    "%timeit [(j)**4  for j in range(1,8)]  # will run from 1 to 7 and will take power of 7 of each element in a list"
   ]
  },
  {
   "cell_type": "code",
   "execution_count": 10,
   "id": "252e504b",
   "metadata": {},
   "outputs": [
    {
     "name": "stdout",
     "output_type": "stream",
     "text": [
      "2.76 µs ± 233 ns per loop (mean ± std. dev. of 7 runs, 100000 loops each)\n"
     ]
    }
   ],
   "source": [
    "import numpy as np     #NumPy array is faster than list\n",
    "%timeit np.arange(1,8)**4"
   ]
  },
  {
   "cell_type": "code",
   "execution_count": 11,
   "id": "9e784045",
   "metadata": {},
   "outputs": [
    {
     "data": {
      "text/plain": [
       "array([   1,   16,   81,  256,  625, 1296, 2401], dtype=int32)"
      ]
     },
     "execution_count": 11,
     "metadata": {},
     "output_type": "execute_result"
    }
   ],
   "source": [
    "np.arange(1,8)**4   #NumPy array"
   ]
  },
  {
   "cell_type": "code",
   "execution_count": 12,
   "id": "632c36e8",
   "metadata": {},
   "outputs": [
    {
     "data": {
      "text/plain": [
       "[1, 16, 81, 256, 625, 1296, 2401]"
      ]
     },
     "execution_count": 12,
     "metadata": {},
     "output_type": "execute_result"
    }
   ],
   "source": [
    "[(j)**4 for j in range(1,8)]   #List"
   ]
  },
  {
   "cell_type": "code",
   "execution_count": 14,
   "id": "0661bb33",
   "metadata": {},
   "outputs": [
    {
     "name": "stdout",
     "output_type": "stream",
     "text": [
      "[1 2 3 4]\n",
      "<class 'numpy.ndarray'>\n"
     ]
    }
   ],
   "source": [
    "# Creating a NumPy array\n",
    "\n",
    "a = np.array([1,2,3,4])\n",
    "print(a)\n",
    "print(type(a))"
   ]
  },
  {
   "cell_type": "code",
   "execution_count": 16,
   "id": "60dd53f7",
   "metadata": {},
   "outputs": [
    {
     "name": "stdout",
     "output_type": "stream",
     "text": [
      "Enter the numbers you want to append in a list:12\n",
      "Enter the numbers you want to append in a list:12\n",
      "Enter the numbers you want to append in a list:14\n",
      "Enter the numbers you want to append in a list:15\n",
      "['12' '12' '14' '15']\n"
     ]
    }
   ],
   "source": [
    "l = []\n",
    "\n",
    "for i in range(1,5):            #appending a NumPy array in a list \n",
    "    int_a = input(\"Enter the numbers you want to append in a list:\")  #but as we are taking input we will get a string \n",
    "    l.append(int_a)\n",
    "    \n",
    "print(np.array(l))"
   ]
  },
  {
   "cell_type": "code",
   "execution_count": 18,
   "id": "cc2367cd",
   "metadata": {},
   "outputs": [
    {
     "name": "stdout",
     "output_type": "stream",
     "text": [
      "Enter the numbers you want to append in a list:12\n",
      "Enter the numbers you want to append in a list:13\n",
      "Enter the numbers you want to append in a list:1\n",
      "Enter the numbers you want to append in a list:4\n",
      "[12 13  1  4]\n",
      "<class 'list'>\n"
     ]
    }
   ],
   "source": [
    "l = []\n",
    "\n",
    "for i in range(1,5):            #appending a NumPy array in a list \n",
    "    int_a = int(input(\"Enter the numbers you want to append in a list:\"))  #using int input to get the desired datatype in array\n",
    "    l.append(int_a)\n",
    "    \n",
    "print(np.array(l))\n",
    "print(type(l))"
   ]
  },
  {
   "cell_type": "code",
   "execution_count": 20,
   "id": "44a33548",
   "metadata": {},
   "outputs": [
    {
     "name": "stdout",
     "output_type": "stream",
     "text": [
      "[1 2 3 4]\n",
      "The dimension of our array is: 1\n"
     ]
    }
   ],
   "source": [
    "a = [1,2,3,4]\n",
    "\n",
    "b= np.array(a)\n",
    "\n",
    "print(b)\n",
    "print(\"The dimension of our array is:\",b.ndim)  #ndim function is used to check the dimension of an NumPy array"
   ]
  },
  {
   "cell_type": "code",
   "execution_count": 22,
   "id": "f38e87b0",
   "metadata": {},
   "outputs": [
    {
     "name": "stdout",
     "output_type": "stream",
     "text": [
      "[[1 2 3 4]\n",
      " [5 6 7 8]]\n",
      "The dimension of our array is: 2\n"
     ]
    }
   ],
   "source": [
    "a = np.array([[1,2,3,4],[5,6,7,8]])  #The number of elements in list should be same for creating an NumPy array\n",
    "#Array is created in a form of matrix\n",
    "print(a)\n",
    "print(\"The dimension of our array is:\",a.ndim)"
   ]
  },
  {
   "cell_type": "code",
   "execution_count": 23,
   "id": "f7789a27",
   "metadata": {},
   "outputs": [
    {
     "name": "stdout",
     "output_type": "stream",
     "text": [
      "[list([1, 2, 3, 4]) list([5, 6, 7])]\n",
      "The dimension of our array is: 1\n"
     ]
    },
    {
     "name": "stderr",
     "output_type": "stream",
     "text": [
      "C:\\Users\\VIKASH R YADAV\\AppData\\Local\\Temp\\ipykernel_8184\\1405161637.py:2: VisibleDeprecationWarning: Creating an ndarray from ragged nested sequences (which is a list-or-tuple of lists-or-tuples-or ndarrays with different lengths or shapes) is deprecated. If you meant to do this, you must specify 'dtype=object' when creating the ndarray.\n",
      "  a = np.array([[1,2,3,4],[5,6,7]])\n"
     ]
    }
   ],
   "source": [
    "#if the number of elements are not same it will return a list \n",
    "a = np.array([[1,2,3,4],[5,6,7]])  \n",
    "#Array is created in a form of matrix\n",
    "print(a)\n"
   ]
  },
  {
   "cell_type": "code",
   "execution_count": 24,
   "id": "e5731f56",
   "metadata": {},
   "outputs": [
    {
     "name": "stdout",
     "output_type": "stream",
     "text": [
      "[[[[[[[[[[1 2 3 4]]]]]]]]]]\n",
      "The dimension of our array is: 10\n"
     ]
    }
   ],
   "source": [
    "a = np.array([1,2,3,4],ndmin=10)  #ndmin is a fucntion to assign the nth dimension of a NumPy array\n",
    "print(a)\n",
    "print(\"The dimension of our array is:\",a.ndim)"
   ]
  },
  {
   "cell_type": "markdown",
   "id": "9850f93a",
   "metadata": {},
   "source": [
    "# Creating a Numpy Array using NumPy function"
   ]
  },
  {
   "cell_type": "code",
   "execution_count": 26,
   "id": "019509ab",
   "metadata": {},
   "outputs": [
    {
     "name": "stdout",
     "output_type": "stream",
     "text": [
      "[0. 0. 0. 0.]\n",
      "\n",
      "[[0. 0. 0. 0.]\n",
      " [0. 0. 0. 0.]\n",
      " [0. 0. 0. 0.]]\n"
     ]
    }
   ],
   "source": [
    "# Array filled with 0's \n",
    "\n",
    "a = np.zeros(4)  #1-d array with 4 zeros\n",
    "print(a)\n",
    "\n",
    "print()\n",
    "\n",
    "b = np.zeros((3,4)) #2-d array with 3 rows and 4 columns each having value as zero\n",
    "print(b)\n"
   ]
  },
  {
   "cell_type": "code",
   "execution_count": 28,
   "id": "f1369fe9",
   "metadata": {},
   "outputs": [
    {
     "name": "stdout",
     "output_type": "stream",
     "text": [
      "[1. 1. 1. 1.]\n",
      "\n",
      "[[1. 1. 1. 1.]\n",
      " [1. 1. 1. 1.]\n",
      " [1. 1. 1. 1.]]\n"
     ]
    }
   ],
   "source": [
    "#Array filled with 1's\n",
    "\n",
    "a = np.ones(4)  #1-d array with 4 ones\n",
    "print(a)\n",
    "\n",
    "print()\n",
    "\n",
    "b = np.ones((3,4)) #2-d array with 3 rows and 4 columns each having value as one\n",
    "print(b)\n"
   ]
  },
  {
   "cell_type": "code",
   "execution_count": 29,
   "id": "ace612a1",
   "metadata": {},
   "outputs": [
    {
     "name": "stdout",
     "output_type": "stream",
     "text": [
      "[1. 1. 1. 1.]\n",
      "\n",
      "[[1. 1. 1. 1.]\n",
      " [1. 1. 1. 1.]\n",
      " [1. 1. 1. 1.]]\n"
     ]
    }
   ],
   "source": [
    "#Creating an Empty Array\n",
    "\n",
    "a = np.empty(4)  #1-d array \n",
    "print(a)\n",
    "\n",
    "print()\n",
    "\n",
    "b = np.empty((3,4)) #2-d array with 3 rows and 4 columns and is an empty array\n",
    "print(b)\n",
    "\n",
    "#It prints the same NumPy array as above as it np.empty() function prints the last value assigned to the memory\n"
   ]
  },
  {
   "cell_type": "code",
   "execution_count": 32,
   "id": "91d9c74f",
   "metadata": {},
   "outputs": [
    {
     "name": "stdout",
     "output_type": "stream",
     "text": [
      "[0 1 2 3]\n"
     ]
    }
   ],
   "source": [
    "#Creating an array with a range of elements\n",
    "\n",
    "a = np.arange(4)  #arange function takes the value from 0 to n-1\n",
    "print(a)"
   ]
  },
  {
   "cell_type": "code",
   "execution_count": 38,
   "id": "26e018b7",
   "metadata": {},
   "outputs": [
    {
     "name": "stdout",
     "output_type": "stream",
     "text": [
      "[[1. 0. 0.]\n",
      " [0. 1. 0.]\n",
      " [0. 0. 1.]]\n",
      "\n",
      "[[1. 0. 0. 0. 0.]\n",
      " [0. 1. 0. 0. 0.]\n",
      " [0. 0. 1. 0. 0.]\n",
      " [0. 0. 0. 1. 0.]]\n"
     ]
    }
   ],
   "source": [
    "#Array diagonal element with same number 1 or Identity MAtrix with Diagonal Elements as 1\n",
    "\n",
    "a = np.eye(3)\n",
    "print(a)\n",
    "\n",
    "print()\n",
    "\n",
    "b = np.eye(4,5)\n",
    "print(b)"
   ]
  },
  {
   "cell_type": "code",
   "execution_count": 46,
   "id": "12e666d4",
   "metadata": {},
   "outputs": [
    {
     "name": "stdout",
     "output_type": "stream",
     "text": [
      "[ 1.          3.11111111  5.22222222  7.33333333  9.44444444 11.55555556\n",
      " 13.66666667 15.77777778 17.88888889 20.        ]\n"
     ]
    }
   ],
   "source": [
    "# Creating an Array with values that are spread linearly in a specified interval\n",
    " \n",
    "a = np.linspace(1,20,num=10)  #num is used for spacing and num cannot be float\n",
    "print(a)"
   ]
  },
  {
   "cell_type": "code",
   "execution_count": 48,
   "id": "f15cf58e",
   "metadata": {},
   "outputs": [
    {
     "data": {
      "text/plain": [
       "array([0.  , 0.01, 0.02, 0.03, 0.04, 0.05, 0.06, 0.07, 0.08, 0.09, 0.1 ,\n",
       "       0.11, 0.12, 0.13, 0.14, 0.15, 0.16, 0.17, 0.18, 0.19, 0.2 , 0.21,\n",
       "       0.22, 0.23, 0.24, 0.25, 0.26, 0.27, 0.28, 0.29, 0.3 , 0.31, 0.32,\n",
       "       0.33, 0.34, 0.35, 0.36, 0.37, 0.38, 0.39, 0.4 , 0.41, 0.42, 0.43,\n",
       "       0.44, 0.45, 0.46, 0.47, 0.48, 0.49, 0.5 , 0.51, 0.52, 0.53, 0.54,\n",
       "       0.55, 0.56, 0.57, 0.58, 0.59, 0.6 , 0.61, 0.62, 0.63, 0.64, 0.65,\n",
       "       0.66, 0.67, 0.68, 0.69, 0.7 , 0.71, 0.72, 0.73, 0.74, 0.75, 0.76,\n",
       "       0.77, 0.78, 0.79, 0.8 , 0.81, 0.82, 0.83, 0.84, 0.85, 0.86, 0.87,\n",
       "       0.88, 0.89, 0.9 , 0.91, 0.92, 0.93, 0.94, 0.95, 0.96, 0.97, 0.98,\n",
       "       0.99])"
      ]
     },
     "execution_count": 48,
     "metadata": {},
     "output_type": "execute_result"
    }
   ],
   "source": [
    "#Creating an Array with values that are spread linearly in a specified interval\n",
    "\n",
    "a = np.arange(0,1,0.01)  #here, 0.01 is the spacing and it can be integer or float\n",
    "a"
   ]
  },
  {
   "cell_type": "markdown",
   "id": "a36feb91",
   "metadata": {},
   "source": [
    "# Creating a NumPy array with Random Numbers\n"
   ]
  },
  {
   "cell_type": "code",
   "execution_count": 49,
   "id": "9c3c85c7",
   "metadata": {},
   "outputs": [
    {
     "name": "stdout",
     "output_type": "stream",
     "text": [
      "[0.75987465 0.06100512 0.96516289 0.74078615 0.41369685]\n"
     ]
    }
   ],
   "source": [
    "# rand() function\n",
    "import random as rd\n",
    "\n",
    "a = np.random.rand(5)  #rand() fucntion randomly generates values between 0 to 1\n",
    "print(a)               #gives a 1-d array"
   ]
  },
  {
   "cell_type": "code",
   "execution_count": 50,
   "id": "c0a1f147",
   "metadata": {},
   "outputs": [
    {
     "name": "stdout",
     "output_type": "stream",
     "text": [
      "[[0.20706115 0.19561183 0.08431826 0.73101061]\n",
      " [0.80817143 0.63279543 0.76068832 0.50175698]]\n"
     ]
    }
   ],
   "source": [
    "a = np.random.rand(2,4)  #rand() fucntion gives random values between 0 to 1 in 2 rows and 4 columns\n",
    "print(a)                 #gives a 2-d array"
   ]
  },
  {
   "cell_type": "code",
   "execution_count": 52,
   "id": "4de79676",
   "metadata": {},
   "outputs": [
    {
     "name": "stdout",
     "output_type": "stream",
     "text": [
      "[ 0.19427708  1.1799573  -1.06464601  0.5791285   0.51383117]\n"
     ]
    }
   ],
   "source": [
    "# randn() function\n",
    "\n",
    "a = np.random.randn(5)    #randn() function randomly generates value close to zero and it can be positive or negative\n",
    "print(a)"
   ]
  },
  {
   "cell_type": "code",
   "execution_count": 54,
   "id": "467b5675",
   "metadata": {},
   "outputs": [
    {
     "name": "stdout",
     "output_type": "stream",
     "text": [
      "[0.539696   0.75193626 0.77674936 0.16901356 0.88912666]\n"
     ]
    }
   ],
   "source": [
    "# ranf() function \n",
    "\n",
    "a = np.random.ranf(5)  #ranf() generates random values in an array with a specified shape with interval [0.0,1.0)\n",
    "print(a)                # It will generate values between 0 to 1 but it can be zero and it can't be 1\n"
   ]
  },
  {
   "cell_type": "code",
   "execution_count": 56,
   "id": "443d93b9",
   "metadata": {},
   "outputs": [
    {
     "name": "stdout",
     "output_type": "stream",
     "text": [
      "[ 3 23 22 14 10 20 27 18]\n"
     ]
    }
   ],
   "source": [
    "# randint() function\n",
    "\n",
    "a = np.random.randint(3,29,8)  #randint() generates a random value for a given range(minimum,maximum,total_values_generate)\n",
    "print(a)"
   ]
  },
  {
   "cell_type": "markdown",
   "id": "fbad5dac",
   "metadata": {},
   "source": [
    "# Datatype of NumPy array\n",
    "\n",
    "We can store a number, a string or both a number and a string in a NumPy Array"
   ]
  },
  {
   "cell_type": "code",
   "execution_count": 60,
   "id": "f19a8698",
   "metadata": {},
   "outputs": [
    {
     "name": "stdout",
     "output_type": "stream",
     "text": [
      "Data type of the NumPy Array is: int32\n"
     ]
    }
   ],
   "source": [
    "a = np.array([1,2,3,4])     #Integer datatype\n",
    "print(\"Data type of the NumPy Array is:\",a.dtype)"
   ]
  },
  {
   "cell_type": "code",
   "execution_count": 61,
   "id": "c3fef229",
   "metadata": {},
   "outputs": [
    {
     "name": "stdout",
     "output_type": "stream",
     "text": [
      "Data type of the NumPy Array is: float64\n"
     ]
    }
   ],
   "source": [
    "b = np.array([1.0,2.0,3.0,4.0])    #Float Datatype\n",
    "print(\"Data type of the NumPy Array is:\",b.dtype)"
   ]
  },
  {
   "cell_type": "code",
   "execution_count": 62,
   "id": "dae93926",
   "metadata": {},
   "outputs": [
    {
     "name": "stdout",
     "output_type": "stream",
     "text": [
      "Data type of the NumPy Array is: <U1\n"
     ]
    }
   ],
   "source": [
    "c = np.array([\"a\",\"b\",\"c\",\"d\"])      #String Datatype\n",
    "print(\"Data type of the NumPy Array is:\",c.dtype)"
   ]
  },
  {
   "cell_type": "code",
   "execution_count": 63,
   "id": "e1587518",
   "metadata": {},
   "outputs": [
    {
     "name": "stdout",
     "output_type": "stream",
     "text": [
      "Data type of the NumPy Array is: <U11\n"
     ]
    }
   ],
   "source": [
    "d = np.array([1,2,\"a\",\"c\",4])     # String and integer datatype\n",
    "print(\"Data type of the NumPy Array is:\",d.dtype)"
   ]
  },
  {
   "cell_type": "code",
   "execution_count": 65,
   "id": "b9579010",
   "metadata": {},
   "outputs": [
    {
     "name": "stdout",
     "output_type": "stream",
     "text": [
      "Data type of the NumPy Array is: int32\n"
     ]
    }
   ],
   "source": [
    "e = np.array([1,2,\"a\",\"c\",4,0,5.0,\"c\"])\n",
    "print(\"Data type of the NumPy Array is:\",a.dtype)"
   ]
  },
  {
   "cell_type": "markdown",
   "id": "ce641925",
   "metadata": {},
   "source": [
    "# Converting a NumPy array of one dtype to another dtype"
   ]
  },
  {
   "cell_type": "code",
   "execution_count": 69,
   "id": "1c821607",
   "metadata": {},
   "outputs": [
    {
     "name": "stdout",
     "output_type": "stream",
     "text": [
      "Data type of the NumPy Array is: int32\n",
      "[1 2 3 4]\n"
     ]
    }
   ],
   "source": [
    "a = np.array([1,2,3,4])\n",
    "print(\"Data type of the NumPy Array is:\",a.dtype)\n",
    "print(a)"
   ]
  },
  {
   "cell_type": "code",
   "execution_count": 68,
   "id": "ba324462",
   "metadata": {},
   "outputs": [
    {
     "name": "stdout",
     "output_type": "stream",
     "text": [
      "Data type of the NumPy Array is: int8\n",
      "[1 2 3 4]\n"
     ]
    }
   ],
   "source": [
    "a = np.array([1,2,3,4],dtype=np.int8)     #converting it from int32 to int8\n",
    "print(\"Data type of the NumPy Array is:\",a.dtype)\n",
    "print(a)"
   ]
  },
  {
   "cell_type": "code",
   "execution_count": 70,
   "id": "2847ee40",
   "metadata": {},
   "outputs": [
    {
     "name": "stdout",
     "output_type": "stream",
     "text": [
      "Data type of the NumPy Array is: float32\n",
      "[1. 2. 3. 4.]\n"
     ]
    }
   ],
   "source": [
    "x = np.array([1,2,3,4],\"f\")     #converting it from int32 to float32\n",
    "print(\"Data type of the NumPy Array is:\",x.dtype)\n",
    "print(x)"
   ]
  },
  {
   "cell_type": "code",
   "execution_count": 72,
   "id": "40b8ba0f",
   "metadata": {},
   "outputs": [
    {
     "name": "stdout",
     "output_type": "stream",
     "text": [
      "Data type of the NumPy Array is: <U1\n",
      "['1' '2' '3' '4']\n"
     ]
    }
   ],
   "source": [
    "y = np.array([1,2,3,4],\"U\")     #converting it from int32 to unsigned integer\n",
    "print(\"Data type of the NumPy Array is:\",y.dtype)\n",
    "print(y)"
   ]
  },
  {
   "cell_type": "markdown",
   "id": "c8fe835f",
   "metadata": {},
   "source": [
    "# Using one dtype as a function for other Numpy Array"
   ]
  },
  {
   "cell_type": "code",
   "execution_count": 74,
   "id": "00113361",
   "metadata": {},
   "outputs": [
    {
     "name": "stdout",
     "output_type": "stream",
     "text": [
      "Data type of the NumPy Array is: int32\n",
      "Data type of the NumPy Array is: float32\n",
      "[1 2 3 4]\n",
      "[1. 2. 3. 4.]\n"
     ]
    }
   ],
   "source": [
    "x = np.array([1,2,3,4])  \n",
    "y = np.float32(x)         #using x as a function over here to change the dtype from int32 to float32\n",
    "\n",
    "print(\"Data type of the NumPy Array is:\",x.dtype)\n",
    "print(\"Data type of the NumPy Array is:\",y.dtype)\n",
    "      \n",
    "print(x)\n",
    "print(y)"
   ]
  },
  {
   "cell_type": "code",
   "execution_count": 75,
   "id": "9e3a82ec",
   "metadata": {},
   "outputs": [
    {
     "name": "stdout",
     "output_type": "stream",
     "text": [
      "Data type of the NumPy Array is: int32\n",
      "Data type of the NumPy Array is: float32\n",
      "Data type of the NumPy Array is: int32\n",
      "[1 2 3 4]\n",
      "[1. 2. 3. 4.]\n",
      "[1 2 3 4]\n"
     ]
    }
   ],
   "source": [
    "x = np.array([1,2,3,4])  \n",
    "y = np.float32(x)         #using x as a function over here to change the dtype from int32 to float32\n",
    "z = np.int_(y)            #using y as a function over here to change the dtype from float32 to int32\n",
    "\n",
    "print(\"Data type of the NumPy Array is:\",x.dtype)\n",
    "print(\"Data type of the NumPy Array is:\",y.dtype)\n",
    "print(\"Data type of the NumPy Array is:\",z.dtype)\n",
    "\n",
    "print(x)\n",
    "print(y)\n",
    "print(z)"
   ]
  },
  {
   "cell_type": "code",
   "execution_count": 77,
   "id": "65c461de",
   "metadata": {},
   "outputs": [
    {
     "name": "stdout",
     "output_type": "stream",
     "text": [
      "[1 2 3 4]\n",
      "[1. 2. 3. 4.]\n"
     ]
    }
   ],
   "source": [
    "x1 = np.array([1,2,3,4])\n",
    "x2 = x1.astype(float)       #astype() function is used to convert one datatype to another easily without using function\n",
    "\n",
    "print(x1)\n",
    "print(x2)"
   ]
  },
  {
   "cell_type": "code",
   "execution_count": 78,
   "id": "27e78f28",
   "metadata": {},
   "outputs": [
    {
     "name": "stdout",
     "output_type": "stream",
     "text": [
      "[1 2 3 4]\n",
      "[1.+0.j 2.+0.j 3.+0.j 4.+0.j]\n"
     ]
    }
   ],
   "source": [
    "x1 = np.array([1,2,3,4])\n",
    "x2 = x1.astype(complex)\n",
    "\n",
    "print(x1)\n",
    "print(x2)"
   ]
  },
  {
   "cell_type": "markdown",
   "id": "399a87e7",
   "metadata": {},
   "source": [
    "# Arithmetic Operations in NumPy arrays"
   ]
  },
  {
   "cell_type": "code",
   "execution_count": 79,
   "id": "e754751a",
   "metadata": {},
   "outputs": [
    {
     "name": "stdout",
     "output_type": "stream",
     "text": [
      "[4 5 6 7]\n"
     ]
    }
   ],
   "source": [
    "x = np.array([1,2,3,4])   #Addition of 1-d Array\n",
    "var_add = x+3\n",
    "print(var_add)"
   ]
  },
  {
   "cell_type": "code",
   "execution_count": 80,
   "id": "3e64323b",
   "metadata": {},
   "outputs": [
    {
     "name": "stdout",
     "output_type": "stream",
     "text": [
      "[ 6  8 10 12]\n"
     ]
    }
   ],
   "source": [
    "x = np.array([1,2,3,4])\n",
    "y = np.array([5,6,7,8])   #Addition of Two NumPy Arrays\n",
    "\n",
    "var_add = x + y\n",
    "print(var_add)"
   ]
  },
  {
   "cell_type": "code",
   "execution_count": 82,
   "id": "cd3ec80a",
   "metadata": {},
   "outputs": [
    {
     "name": "stdout",
     "output_type": "stream",
     "text": [
      "[ 1 -2 -6 -4]\n"
     ]
    }
   ],
   "source": [
    "x = np.array([1,2,3,4])\n",
    "y = np.array([0,4,9,8])   #Subtraction of Two NumPy Arrays\n",
    "\n",
    "var_add = x - y\n",
    "print(var_add)"
   ]
  },
  {
   "cell_type": "code",
   "execution_count": 84,
   "id": "b3574740",
   "metadata": {},
   "outputs": [
    {
     "name": "stdout",
     "output_type": "stream",
     "text": [
      "[ 0  8 27 32]\n"
     ]
    }
   ],
   "source": [
    "x = np.array([1,2,3,4])\n",
    "y = np.array([0,4,9,8])   #Multiplication of Two NumPy Arrays\n",
    "\n",
    "var_add = x * y\n",
    "print(var_add)"
   ]
  },
  {
   "cell_type": "code",
   "execution_count": 86,
   "id": "19399d39",
   "metadata": {},
   "outputs": [
    {
     "name": "stdout",
     "output_type": "stream",
     "text": [
      "[0.5        0.5        0.33333333 0.5       ]\n"
     ]
    }
   ],
   "source": [
    "x = np.array([1,2,3,4])\n",
    "y = np.array([2,4,9,8])   #Division of Two NumPy Arrays\n",
    "\n",
    "var_add = x / y\n",
    "print(var_add)"
   ]
  },
  {
   "cell_type": "code",
   "execution_count": 89,
   "id": "1691e618",
   "metadata": {},
   "outputs": [
    {
     "name": "stdout",
     "output_type": "stream",
     "text": [
      "[1 2 3 5]\n"
     ]
    }
   ],
   "source": [
    "x = np.array([1,2,3,5])\n",
    "y = np.array([2,4,9,15])   #Modulus of Two NumPy Arrays\n",
    "\n",
    "var_add = x % y\n",
    "print(var_add)"
   ]
  },
  {
   "cell_type": "code",
   "execution_count": 90,
   "id": "0c3fc470",
   "metadata": {},
   "outputs": [
    {
     "name": "stdout",
     "output_type": "stream",
     "text": [
      "[ 1  6 12 12]\n"
     ]
    }
   ],
   "source": [
    "x = np.array([1,2,3,4])\n",
    "y = np.array([0,4,9,8])   \n",
    "\n",
    "var_add = np.add(x,y)    #Addition as a function of NumPy\n",
    "print(var_add)"
   ]
  },
  {
   "cell_type": "code",
   "execution_count": 94,
   "id": "86280e72",
   "metadata": {},
   "outputs": [
    {
     "name": "stdout",
     "output_type": "stream",
     "text": [
      "[[1 2 3 4]\n",
      " [2 3 4 5]]\n",
      "\n",
      "[[0 4 9 8]\n",
      " [3 6 7 8]]\n",
      "\n",
      "[[ 1  6 12 12]\n",
      " [ 5  9 11 13]]\n"
     ]
    }
   ],
   "source": [
    "x = np.array([[1,2,3,4],[2,3,4,5]])\n",
    "y = np.array([[0,4,9,8],[3,6,7,8]]) \n",
    "\n",
    "print(x)\n",
    "print()\n",
    "print(y)\n",
    "print()\n",
    "\n",
    "var_add = np.add(x,y)    #Addition as a function of NumPy for a 2D Array\n",
    "print(var_add)"
   ]
  },
  {
   "cell_type": "markdown",
   "id": "c1f97936",
   "metadata": {},
   "source": [
    "# Arithmetic Functions in NumPy Arrays"
   ]
  },
  {
   "cell_type": "code",
   "execution_count": 105,
   "id": "bd4d1d82",
   "metadata": {},
   "outputs": [
    {
     "name": "stdout",
     "output_type": "stream",
     "text": [
      "minimum: 1\n",
      "maximum: 9\n",
      "\n",
      "Argmin: 0\n",
      "Argmax: 7\n",
      "\n",
      "Square Root: [1.         1.41421356 1.73205081 2.         2.23606798 2.44948974\n",
      " 1.41421356 3.        ]\n"
     ]
    }
   ],
   "source": [
    "a = np.array([1,2,3,4,5,6,2,9])\n",
    "\n",
    "print(\"minimum:\",np.min(a))\n",
    "print(\"maximum:\",np.max(a))\n",
    "print()\n",
    "\n",
    "print(\"Argmin:\",np.argmin(a))   #gives the index value of the minimum\n",
    "print(\"Argmax:\",np.argmax(a))   #gives the index value of the maximum\n",
    "\n",
    "print()\n",
    "print(\"Square Root:\",np.sqrt(a))  #gives the square root of the NumPy array\n"
   ]
  },
  {
   "cell_type": "code",
   "execution_count": 100,
   "id": "0553763a",
   "metadata": {},
   "outputs": [
    {
     "name": "stdout",
     "output_type": "stream",
     "text": [
      "Maximum: [5 9 7]\n"
     ]
    }
   ],
   "source": [
    "a = np.array([[3,9,1],[5,8,7]])\n",
    "\n",
    "print(\"Maximum:\",np.max(a,axis=0))   #axis=0 represent operations are being done in columns in 2d Array"
   ]
  },
  {
   "cell_type": "code",
   "execution_count": 99,
   "id": "3205d4e5",
   "metadata": {},
   "outputs": [
    {
     "name": "stdout",
     "output_type": "stream",
     "text": [
      "Maximum: [4 8]\n"
     ]
    }
   ],
   "source": [
    "a = np.array([[3,4,1],[5,8,7]])\n",
    "\n",
    "print(\"Maximum:\",np.max(a,axis=1))  #axis=1 represent operations are being done in rows in 2d Array"
   ]
  },
  {
   "cell_type": "code",
   "execution_count": 106,
   "id": "0049d2a4",
   "metadata": {},
   "outputs": [
    {
     "name": "stdout",
     "output_type": "stream",
     "text": [
      "Sin: [0.47942554 0.84147098 0.         0.90929743]\n",
      "Cos: [ 0.87758256  0.54030231  1.         -0.41614684]\n"
     ]
    }
   ],
   "source": [
    "a = np.array([0.5,1,0,2])\n",
    "\n",
    "print(\"Sin:\",np.sin(a))\n",
    "print(\"Cos:\",np.cos(a))"
   ]
  },
  {
   "cell_type": "code",
   "execution_count": 107,
   "id": "54b706e0",
   "metadata": {},
   "outputs": [
    {
     "name": "stdout",
     "output_type": "stream",
     "text": [
      "Cumulative Sum: [ 1  3  6 10]\n"
     ]
    }
   ],
   "source": [
    "a = np.array([1,2,3,4])\n",
    "print(\"Cumulative Sum:\",np.cumsum(a))  #gives the cumulative sum of the NumPy array"
   ]
  },
  {
   "cell_type": "code",
   "execution_count": 109,
   "id": "9c8fe944",
   "metadata": {},
   "outputs": [
    {
     "name": "stdout",
     "output_type": "stream",
     "text": [
      "Argsort: [0 2 1 3 4]\n"
     ]
    }
   ],
   "source": [
    "a = np.array([1,4,3,6,8])\n",
    "\n",
    "print(\"Argsort:\",np.argsort(a))  #Returns the indices that would sort an array"
   ]
  },
  {
   "cell_type": "markdown",
   "id": "31c99f01",
   "metadata": {},
   "source": [
    "# Shape and Reshaping in NumPy Arrays"
   ]
  },
  {
   "cell_type": "code",
   "execution_count": 110,
   "id": "a5f24e53",
   "metadata": {},
   "outputs": [
    {
     "name": "stdout",
     "output_type": "stream",
     "text": [
      "[[1 2 3]\n",
      " [4 5 6]]\n",
      "\n",
      "(2, 3)\n"
     ]
    }
   ],
   "source": [
    "a = np.array([[1,2,3],[4,5,6]])\n",
    "print(a)\n",
    "print()\n",
    "print(a.shape)   #Prints the shape of the NumPy Array(Rows,Columns)"
   ]
  },
  {
   "cell_type": "code",
   "execution_count": 111,
   "id": "b41816ce",
   "metadata": {},
   "outputs": [
    {
     "name": "stdout",
     "output_type": "stream",
     "text": [
      "[[[[1 2 3 4]]]]\n",
      "\n",
      "(1, 1, 1, 4)\n"
     ]
    }
   ],
   "source": [
    "a = np.array([1,2,3,4],ndmin=4)  #n-dimensional array\n",
    "print(a)                         #ndmin function is used to make a n dimensional array\n",
    "print()\n",
    "print(a.shape)"
   ]
  },
  {
   "cell_type": "code",
   "execution_count": 114,
   "id": "81f7165a",
   "metadata": {},
   "outputs": [
    {
     "name": "stdout",
     "output_type": "stream",
     "text": [
      "[1 2 3 4 5 6]\n",
      "Dimension: 1\n",
      "\n",
      "[[1 2]\n",
      " [3 4]\n",
      " [5 6]]\n",
      "Dimension: 2\n"
     ]
    }
   ],
   "source": [
    "a = np.array([1,2,3,4,5,6])   #1-d array\n",
    "print(a)\n",
    "print(\"Dimension:\",a.ndim)\n",
    "\n",
    "print()\n",
    "\n",
    "b = a.reshape(3,2)        #reshaped from 1-d array to 2-d array\n",
    "print(b)\n",
    "print(\"Dimension:\",b.ndim)"
   ]
  },
  {
   "cell_type": "code",
   "execution_count": 117,
   "id": "97bb5ba5",
   "metadata": {},
   "outputs": [
    {
     "name": "stdout",
     "output_type": "stream",
     "text": [
      "[ 1  2  3  4  5  6  7  8  9 10 11 12]\n",
      "Dimension: 1\n",
      "\n",
      "[[ 1  2  3  4]\n",
      " [ 5  6  7  8]\n",
      " [ 9 10 11 12]]\n",
      "Dimension: 2\n",
      "\n",
      "[[[ 1  2]\n",
      "  [ 3  4]\n",
      "  [ 5  6]]\n",
      "\n",
      " [[ 7  8]\n",
      "  [ 9 10]\n",
      "  [11 12]]]\n",
      "Dimension: 3\n",
      "\n",
      "[ 1  2  3  4  5  6  7  8  9 10 11 12]\n",
      "Dimension: 1\n"
     ]
    }
   ],
   "source": [
    "a = np.array([1,2,3,4,5,6,7,8,9,10,11,12])\n",
    "print(a)\n",
    "print(\"Dimension:\",a.ndim)    #1-d Array\n",
    "\n",
    "print()\n",
    "\n",
    "b = a.reshape(3,4)\n",
    "print(b)\n",
    "print(\"Dimension:\",b.ndim)  #1-d array reshaped to 2-d array\n",
    "\n",
    "print()\n",
    "\n",
    "c = a.reshape(2,3,2)\n",
    "print(c)\n",
    "print(\"Dimension:\",c.ndim) #1-d array reshaped to 3-d array\n",
    "\n",
    "print()\n",
    "\n",
    "d = c.reshape(-1) \n",
    "print(d)\n",
    "print(\"Dimension:\",d.ndim)  #Reshaping the 3-d array into 1-d array by using reshape(-1)"
   ]
  },
  {
   "cell_type": "markdown",
   "id": "90770b69",
   "metadata": {},
   "source": [
    "# Broadcasting\n",
    "\n",
    "Broadcasting is an error which is generated when a NumPy array have 3 elements in it and another NumPy array contains 4 elements in it.\n",
    "\n",
    "This error can be prevented if we have the following in our NumPy Arrays:\n",
    "1.) Same Dimension\n",
    "2.) If Dimensions are not same they should have at least one value same like (1,3) and (3,1) are present they have a value\n",
    "    1 in both of them."
   ]
  },
  {
   "cell_type": "code",
   "execution_count": 118,
   "id": "c2d972d1",
   "metadata": {},
   "outputs": [
    {
     "name": "stdout",
     "output_type": "stream",
     "text": [
      "[1 2 3]\n",
      "Dimension: 1\n",
      "(3,)\n",
      "\n",
      "[[1]\n",
      " [2]\n",
      " [3]]\n",
      "Dimension: 2\n",
      "(3, 1)\n",
      "\n",
      "[[2 3 4]\n",
      " [3 4 5]\n",
      " [4 5 6]]\n"
     ]
    }
   ],
   "source": [
    "a = np.array([1,2,3])\n",
    "print(a)\n",
    "print(\"Dimension:\",a.ndim)\n",
    "print(a.shape)\n",
    "\n",
    "print()\n",
    "\n",
    "b = np.array([[1],[2],[3]])\n",
    "print(b)\n",
    "print(\"Dimension:\",b.ndim)\n",
    "print(b.shape)\n",
    "\n",
    "print()\n",
    "\n",
    "print(a + b)    #Addition is done as we are multiplying a m*n matrix with a n*p matrix resulting in m*p matrix\n",
    "# the array which is generated is the maximum of the shape of the array as we move from right to left as 2*1 \n",
    "#and 2*3 is given then moving from right to left we get an array of 2*3 as 2 is maximum from 2 and 2 and 3 is maximum\n",
    "#between 1 and 3."
   ]
  },
  {
   "cell_type": "markdown",
   "id": "63bf2fc4",
   "metadata": {},
   "source": [
    "# Indexing In NumPy Array"
   ]
  },
  {
   "cell_type": "code",
   "execution_count": 120,
   "id": "37cd6ab4",
   "metadata": {},
   "outputs": [
    {
     "name": "stdout",
     "output_type": "stream",
     "text": [
      "2\n",
      "3\n"
     ]
    }
   ],
   "source": [
    "a = np.array([1,2,3,4])\n",
    "#             0,1,2,3 ---->Indexing\n",
    "#            -4,-3,-2,-1---->Negative Indexing\n",
    "\n",
    "print(a[1])                 #Indexing in 1-d Array\n",
    "print(a[-2])"
   ]
  },
  {
   "cell_type": "code",
   "execution_count": 122,
   "id": "eef502bd",
   "metadata": {},
   "outputs": [
    {
     "name": "stdout",
     "output_type": "stream",
     "text": [
      "[[4 5 6]\n",
      " [7 8 3]]\n",
      "Dimension: 2\n",
      "\n",
      "6\n",
      "8\n"
     ]
    }
   ],
   "source": [
    "b = np.array([[4,5,6],[7,8,3]])\n",
    "print(b)\n",
    "print(\"Dimension:\",b.ndim)\n",
    "\n",
    "print()\n",
    "\n",
    "print(b[0,2])              #Indexing in 2-d Array\n",
    "print(b[1,1])"
   ]
  },
  {
   "cell_type": "code",
   "execution_count": 129,
   "id": "ff0d7eb5",
   "metadata": {},
   "outputs": [
    {
     "name": "stdout",
     "output_type": "stream",
     "text": [
      "[[[1 2]\n",
      "  [3 4]]]\n",
      "Dimension: 3\n",
      "Shape: (1, 2, 2)\n",
      "2\n"
     ]
    }
   ],
   "source": [
    "c = np.array([[[1,2],[3,4]]])\n",
    "print(c)\n",
    "print(\"Dimension:\",c.ndim)\n",
    "print(\"Shape:\",c.shape)\n",
    "\n",
    "print(c[0,0,1])              #Indexing in 2-d Array"
   ]
  },
  {
   "cell_type": "markdown",
   "id": "ad486968",
   "metadata": {},
   "source": [
    "# Slicing in NumPy Arrays"
   ]
  },
  {
   "cell_type": "code",
   "execution_count": 137,
   "id": "36cbd266",
   "metadata": {},
   "outputs": [
    {
     "name": "stdout",
     "output_type": "stream",
     "text": [
      "[1 2 3 4 5 6]\n",
      "Dimensions: 1\n",
      "(6,)\n",
      "\n",
      "2 to 5: [2 3 4 5]\n",
      "2 to end: [2 3 4 5 6]\n",
      "start to 5: [1 2 3 4 5]\n",
      "Start to end: [1 2 3 4 5 6]\n",
      "Reverse: [6 5 4 3 2 1]\n",
      "Start to end with a step size of 1: [1 3 5]\n"
     ]
    }
   ],
   "source": [
    "a = np.array([1,2,3,4,5,6])\n",
    "#             0,1,2,3,4,5----->Indexing\n",
    "print(a)\n",
    "print(\"Dimensions:\",a.ndim)\n",
    "print(a.shape)\n",
    "print()\n",
    "\n",
    "print(\"2 to 5:\",a[1:5])   #slicing [start:stop:step] \n",
    "print(\"2 to end:\",a[1:])\n",
    "print(\"start to 5:\",a[:5])\n",
    "print(\"Start to end:\",a[:])\n",
    "print(\"Reverse:\",a[::-1])\n",
    "print(\"Start to end with a step size of 1:\",a[::2])"
   ]
  },
  {
   "cell_type": "code",
   "execution_count": 138,
   "id": "ef159588",
   "metadata": {},
   "outputs": [
    {
     "name": "stdout",
     "output_type": "stream",
     "text": [
      "[[4 5 6 7]\n",
      " [7 8 9 3]]\n",
      "Dimension: 2\n",
      "Shape: (2, 4)\n",
      "\n",
      "8 to 3: [8 9 3]\n"
     ]
    }
   ],
   "source": [
    "a = np.array([[4,5,6,7],[7,8,9,3]])\n",
    "print(a)\n",
    "print(\"Dimension:\",a.ndim)\n",
    "print(\"Shape:\",a.shape)\n",
    "print()\n",
    "\n",
    "print(\"8 to 3:\",a[1,1:])   #2-d array slicing indexing starts with 0 and 1 of 2d array first and then the elements in it"
   ]
  },
  {
   "cell_type": "markdown",
   "id": "6826443d",
   "metadata": {},
   "source": [
    "# Iterating NumPy Arrays"
   ]
  },
  {
   "cell_type": "code",
   "execution_count": 140,
   "id": "715f2b8d",
   "metadata": {},
   "outputs": [
    {
     "name": "stdout",
     "output_type": "stream",
     "text": [
      "[1 2 3 4 5 6 7 8 9]\n",
      "\n",
      "1\n",
      "2\n",
      "3\n",
      "4\n",
      "5\n",
      "6\n",
      "7\n",
      "8\n",
      "9\n"
     ]
    }
   ],
   "source": [
    "x = np.array([1,2,3,4,5,6,7,8,9])\n",
    "print(x)\n",
    "print()\n",
    "for i in x:\n",
    "    print(i)      #Iteration Process"
   ]
  },
  {
   "cell_type": "code",
   "execution_count": 142,
   "id": "656eaa42",
   "metadata": {},
   "outputs": [
    {
     "name": "stdout",
     "output_type": "stream",
     "text": [
      "[[1 2 3 4]\n",
      " [5 6 7 8]]\n",
      "\n",
      "[1 2 3 4]\n",
      "[5 6 7 8]\n",
      "\n",
      "1\n",
      "2\n",
      "3\n",
      "4\n",
      "5\n",
      "6\n",
      "7\n",
      "8\n"
     ]
    }
   ],
   "source": [
    "x = np.array([[1,2,3,4],[5,6,7,8]])\n",
    "print(x)\n",
    "print()\n",
    "for j in x:\n",
    "    print(j)    #Iteration Process for 2d array\n",
    "    \n",
    "print()\n",
    "\n",
    "for k in x:\n",
    "    for l in k:    #Iteration process for the elements in the 2d array\n",
    "        print(l)"
   ]
  },
  {
   "cell_type": "code",
   "execution_count": 144,
   "id": "7383cd98",
   "metadata": {},
   "outputs": [
    {
     "name": "stdout",
     "output_type": "stream",
     "text": [
      "[[[1 2 3 4]\n",
      "  [5 6 7 8]]]\n",
      "Dimensions: 3\n",
      "\n",
      "1\n",
      "2\n",
      "3\n",
      "4\n",
      "5\n",
      "6\n",
      "7\n",
      "8\n"
     ]
    }
   ],
   "source": [
    " x = np.array([[[1,2,3,4],[5,6,7,8]]])\n",
    "print(x)\n",
    "print(\"Dimensions:\",x.ndim)\n",
    "print()\n",
    "\n",
    "\n",
    "for k in x:\n",
    "    for l in k:    #Iteration process for the elements in the 3d array\n",
    "        for i in l:\n",
    "            print(i)"
   ]
  },
  {
   "cell_type": "code",
   "execution_count": 147,
   "id": "b2ab5f8e",
   "metadata": {},
   "outputs": [
    {
     "name": "stdout",
     "output_type": "stream",
     "text": [
      "[[[1 2 3 4]\n",
      "  [5 6 7 8]]]\n",
      "Dimensions: 3\n",
      "\n",
      "1\n",
      "2\n",
      "3\n",
      "4\n",
      "5\n",
      "6\n",
      "7\n",
      "8\n"
     ]
    }
   ],
   "source": [
    " x = np.array([[[1,2,3,4],[5,6,7,8]]])\n",
    "print(x)\n",
    "print(\"Dimensions:\",x.ndim)\n",
    "print()\n",
    "\n",
    "for i in np.nditer(x):   #nditer() function is used to iterate the multidimensional array at once without using loops\n",
    "    print(i)"
   ]
  },
  {
   "cell_type": "code",
   "execution_count": 148,
   "id": "428f54ea",
   "metadata": {},
   "outputs": [
    {
     "name": "stdout",
     "output_type": "stream",
     "text": [
      "[[[1 2 3 4]\n",
      "  [5 6 7 8]]]\n",
      "Dimensions: 3\n",
      "\n",
      "(0, 0, 0) 1\n",
      "(0, 0, 1) 2\n",
      "(0, 0, 2) 3\n",
      "(0, 0, 3) 4\n",
      "(0, 1, 0) 5\n",
      "(0, 1, 1) 6\n",
      "(0, 1, 2) 7\n",
      "(0, 1, 3) 8\n"
     ]
    }
   ],
   "source": [
    " x = np.array([[[1,2,3,4],[5,6,7,8]]])\n",
    "print(x)\n",
    "print(\"Dimensions:\",x.ndim)\n",
    "print()\n",
    "\n",
    "for i,d in np.ndenumerate(x):   #ndenumerate() function is used to iterate the array with the datatype(d) here\n",
    "    print(i,d)                  # i is the indexing and d is the data"
   ]
  },
  {
   "cell_type": "markdown",
   "id": "b455a584",
   "metadata": {},
   "source": [
    "# Copy vs View In NumPy Array\n",
    "\n",
    "1. View does not owns the data and copy owns the data.\n",
    "2. The copy of an Array is a New Array whereas view is a view of a original array.\n",
    "3. The change made in the copy does not reflect in the original array whereas any change made in the view will affect the \n",
    "   original array and the changes made in the original array will affect the view."
   ]
  },
  {
   "cell_type": "code",
   "execution_count": 151,
   "id": "80377d2a",
   "metadata": {},
   "outputs": [
    {
     "name": "stdout",
     "output_type": "stream",
     "text": [
      "Original: [ 1 40  3  4]\n",
      "Copy: [1 2 3 4]\n"
     ]
    }
   ],
   "source": [
    "a = np.array([1,2,3,4])\n",
    "b = a.copy()            #copy() function is used to copy the data from one array and use it in another array\n",
    "\n",
    "a[1]=40                 #copy function does not gets affected by change in original data\n",
    "print(\"Original:\",a)\n",
    "print(\"Copy:\",b)"
   ]
  },
  {
   "cell_type": "code",
   "execution_count": 152,
   "id": "5facd604",
   "metadata": {},
   "outputs": [
    {
     "name": "stdout",
     "output_type": "stream",
     "text": [
      "Original: [9 8 7 6 5]\n",
      "View: [ 9 30  7  6  5]\n"
     ]
    }
   ],
   "source": [
    "x = np.array([9,8,7,6,5])\n",
    "print(\"Original:\",x)\n",
    "\n",
    "x[1]=30\n",
    "y = x.view()       #view() function is used to view the data \n",
    "print(\"View:\",y)   #view function gets affected by change in original data\n"
   ]
  },
  {
   "cell_type": "markdown",
   "id": "18c2a5f9",
   "metadata": {},
   "source": [
    "# Join Array"
   ]
  },
  {
   "cell_type": "code",
   "execution_count": 157,
   "id": "714266cc",
   "metadata": {},
   "outputs": [
    {
     "name": "stdout",
     "output_type": "stream",
     "text": [
      "Joining of two Arrays gives: [1 2 3 4 6 7 8 9]\n",
      "0\n"
     ]
    }
   ],
   "source": [
    "a = np.array([1,2,3,4])\n",
    "b = np.array([6,7,8,9])\n",
    "c = np.concatenate((a,b))      #Joining of two arrays for a 1-d array\n",
    "print(\"Joining of two Arrays gives:\",c)\n"
   ]
  },
  {
   "cell_type": "code",
   "execution_count": 159,
   "id": "3915c37b",
   "metadata": {},
   "outputs": [
    {
     "name": "stdout",
     "output_type": "stream",
     "text": [
      "[[1 2]\n",
      " [3 4]]\n",
      "\n",
      "[[5 6]\n",
      " [7 8]]\n",
      "\n",
      "Joining of two Arrays gives: [[1 2 5 6]\n",
      " [3 4 7 8]]\n"
     ]
    }
   ],
   "source": [
    "a = np.array([[1,2],[3,4]])\n",
    "b = np.array([[5,6],[7,8]])\n",
    "print(a)\n",
    "print()\n",
    "print(b)\n",
    "print()\n",
    "\n",
    "c = np.concatenate((a,b),axis=1)   #joining the arrays along the rows\n",
    "print(\"Joining of two Arrays gives:\",c)"
   ]
  },
  {
   "cell_type": "code",
   "execution_count": 172,
   "id": "4a8849a5",
   "metadata": {},
   "outputs": [
    {
     "name": "stdout",
     "output_type": "stream",
     "text": [
      "[1 2 3 4]\n",
      "\n",
      "[5 6 7 8]\n",
      "\n",
      "Joining of two Arrays gives: [[1 5]\n",
      " [2 6]\n",
      " [3 7]\n",
      " [4 8]]\n"
     ]
    }
   ],
   "source": [
    "a = np.array([1,2,3,4])\n",
    "b = np.array([5,6,7,8])\n",
    "print(a)\n",
    "print()\n",
    "print(b)\n",
    "print()\n",
    "\n",
    "c = np.stack((a,b),axis=1)   \n",
    "print(\"Joining of two Arrays gives:\",c)"
   ]
  },
  {
   "cell_type": "code",
   "execution_count": 174,
   "id": "ac75982f",
   "metadata": {},
   "outputs": [
    {
     "name": "stdout",
     "output_type": "stream",
     "text": [
      "[1 2 3 4]\n",
      "\n",
      "[5 6 7 8]\n",
      "\n",
      "Joining of two Arrays along the rows gives: [1 2 3 4 5 6 7 8]\n",
      "\n",
      "Joining of two Arrays along the columns gives: [[1 2 3 4]\n",
      " [5 6 7 8]]\n",
      "\n",
      "[[[1 5]\n",
      "  [2 6]\n",
      "  [3 7]\n",
      "  [4 8]]]\n",
      "Dimensions of e: 3\n"
     ]
    }
   ],
   "source": [
    "a = np.array([1,2,3,4])\n",
    "b = np.array([5,6,7,8])\n",
    "print(a)\n",
    "print()\n",
    "print(b)\n",
    "print()\n",
    "\n",
    "c = np.hstack((a,b))    #joining along the rows\n",
    "d = np.vstack((a,b))    #joining along the columns\n",
    "e = np.dstack((a,b))    #joining along the height\n",
    "print(\"Joining of two Arrays along the rows gives:\",c)\n",
    "print()\n",
    "print(\"Joining of two Arrays along the columns gives:\",d)\n",
    "print()\n",
    "print(e)    #Joining along the height\n",
    "print(\"Dimensions of e:\",e.ndim)\n"
   ]
  },
  {
   "cell_type": "markdown",
   "id": "64de5bcc",
   "metadata": {},
   "source": [
    "# Split Array\n",
    "Splitting one array into multiple"
   ]
  },
  {
   "cell_type": "code",
   "execution_count": 178,
   "id": "ca375fbe",
   "metadata": {},
   "outputs": [
    {
     "name": "stdout",
     "output_type": "stream",
     "text": [
      "Splitting of array gives: [array([1, 2]), array([3, 4]), array([5, 6])]\n",
      "<class 'list'>\n",
      "[1 2]\n"
     ]
    }
   ],
   "source": [
    "a = np.array([1,2,3,4,5,6])\n",
    "b = np.array_split(a,3)      #np.array_split() is used to split the array and 3 is the number in which array is splitted\n",
    "print(\"Splitting of array gives:\",b)\n",
    "print(type(b))\n",
    "print(b[0])"
   ]
  },
  {
   "cell_type": "code",
   "execution_count": 179,
   "id": "0f07d046",
   "metadata": {},
   "outputs": [
    {
     "name": "stdout",
     "output_type": "stream",
     "text": [
      "Splitting of array gives: [array([[1, 2]]), array([[3, 4]]), array([[5, 6]])]\n",
      "<class 'list'>\n",
      "[[1 2]]\n"
     ]
    }
   ],
   "source": [
    "a = np.array([[1,2],[3,4],[5,6]])  #splitting of 2d array\n",
    "b = np.array_split(a,3)      #np.array_split() is used to split the array and 3 is the number in which array is splitted\n",
    "print(\"Splitting of array gives:\",b)\n",
    "print(type(b))\n",
    "print(b[0])"
   ]
  },
  {
   "cell_type": "code",
   "execution_count": 185,
   "id": "1013964f",
   "metadata": {},
   "outputs": [
    {
     "name": "stdout",
     "output_type": "stream",
     "text": [
      "[[1 2]\n",
      " [3 4]\n",
      " [5 6]]\n",
      "\n",
      "Splitting of array gives: [array([[1],\n",
      "       [3],\n",
      "       [5]]), array([[2],\n",
      "       [4],\n",
      "       [6]]), array([], shape=(3, 0), dtype=int32)]\n",
      "\n",
      "[[1. 2.]\n",
      " [3. 4.]\n",
      " [5. 6.]]\n"
     ]
    }
   ],
   "source": [
    "a = np.array([[1,2],[3,4],[5,6]])  #splitting of 2d array\n",
    "print(a)\n",
    "print()\n",
    "\n",
    "b = np.array_split(a,3,axis=1)      #splitting along then axis\n",
    "print(\"Splitting of array gives:\",b)\n",
    "print()\n",
    "\n",
    "c=a.astype(float)   #converting the dtype and conversion of dtype can be only done in NumPy Arrays & not in list\n",
    "print(c)"
   ]
  },
  {
   "cell_type": "markdown",
   "id": "b22d165b",
   "metadata": {},
   "source": [
    "# Search Array"
   ]
  },
  {
   "cell_type": "code",
   "execution_count": 187,
   "id": "759ba73e",
   "metadata": {},
   "outputs": [
    {
     "name": "stdout",
     "output_type": "stream",
     "text": [
      "Indexes at which the number is present is: (array([1, 4, 9], dtype=int64),)\n"
     ]
    }
   ],
   "source": [
    "a = np.array([1,2,3,4,2,6,3,4,7,2])\n",
    "#             0,1,2,3,4,5,6,7,8,9------->Indexing\n",
    "b = np.where(a==2)\n",
    "print(\"Indexes at which the number is present is:\",b)\n"
   ]
  },
  {
   "cell_type": "code",
   "execution_count": 189,
   "id": "c8879f6b",
   "metadata": {},
   "outputs": [
    {
     "name": "stdout",
     "output_type": "stream",
     "text": [
      "Indexes at which the number is present is: (array([1, 3, 4, 5, 7, 9], dtype=int64),)\n"
     ]
    }
   ],
   "source": [
    "a = np.array([1,2,3,4,2,6,3,4,7,2])\n",
    "#             0,1,2,3,4,5,6,7,8,9------->Indexing\n",
    "b = np.where((a%2)==0)                          #We can also assign some operations in where functions\n",
    "print(\"Indexes at which the number is present is:\",b)\n"
   ]
  },
  {
   "cell_type": "markdown",
   "id": "9504fce8",
   "metadata": {},
   "source": [
    "# Search Sorted Array"
   ]
  },
  {
   "cell_type": "code",
   "execution_count": 191,
   "id": "11a53d36",
   "metadata": {},
   "outputs": [
    {
     "name": "stdout",
     "output_type": "stream",
     "text": [
      "Index of the number placed: 4\n"
     ]
    }
   ],
   "source": [
    "a = np.array([1,2,3,4,7,8])\n",
    "#             0,1,2,3,4,5--------->Indexing\n",
    "b = np.searchsorted(a,6)   #shows the index where the number 6 should be placed in the array\n",
    "print(\"Index of the number placed:\",b)"
   ]
  },
  {
   "cell_type": "code",
   "execution_count": 192,
   "id": "dce144f7",
   "metadata": {},
   "outputs": [
    {
     "name": "stdout",
     "output_type": "stream",
     "text": [
      "Index of the number placed: [4 4]\n"
     ]
    }
   ],
   "source": [
    "a = np.array([1,2,3,4,7,8])\n",
    "#             0,1,2,3,4,5--------->Indexing\n",
    "b = np.searchsorted(a,[5,6])   #shows the index where the number [5,6] should be placed in the array\n",
    "print(\"Index of the number placed:\",b)\n"
   ]
  },
  {
   "cell_type": "markdown",
   "id": "9fa1a792",
   "metadata": {},
   "source": [
    "# Sort function\n",
    "Sorts the array containing numbers as well as the strings"
   ]
  },
  {
   "cell_type": "code",
   "execution_count": 193,
   "id": "82695011",
   "metadata": {},
   "outputs": [
    {
     "name": "stdout",
     "output_type": "stream",
     "text": [
      "Sorted Array: [  1   2   4   7   9  23  34  35  45  56  73  77  90 745]\n"
     ]
    }
   ],
   "source": [
    "a = np.array([1,4,2,77,56,34,90,45,7,35,745,73,9,23])  #1d array\n",
    "print(\"Sorted Array:\",np.sort(a))"
   ]
  },
  {
   "cell_type": "code",
   "execution_count": 194,
   "id": "186e5d1d",
   "metadata": {},
   "outputs": [
    {
     "name": "stdout",
     "output_type": "stream",
     "text": [
      "Sorted Array: ['a' 'b' 'd' 'f' 'h' 'z']\n"
     ]
    }
   ],
   "source": [
    "a = np.array(['a','f','b','d','z','h'])   #Strings in list\n",
    "print(\"Sorted Array:\",np.sort(a))"
   ]
  },
  {
   "cell_type": "code",
   "execution_count": 195,
   "id": "cd531b86",
   "metadata": {},
   "outputs": [
    {
     "name": "stdout",
     "output_type": "stream",
     "text": [
      "Sorted 2-d Array: [[ 2  3  4]\n",
      " [ 6 23 45]\n",
      " [ 4  9 65]]\n"
     ]
    }
   ],
   "source": [
    "a = np.array([[4,2,3],[23,6,45],[9,65,4]])\n",
    "print(\"Sorted 2-d Array:\",np.sort(a))"
   ]
  },
  {
   "cell_type": "markdown",
   "id": "10707503",
   "metadata": {},
   "source": [
    "# Filter Array\n",
    "Subarray"
   ]
  },
  {
   "cell_type": "code",
   "execution_count": 197,
   "id": "7946be13",
   "metadata": {},
   "outputs": [
    {
     "name": "stdout",
     "output_type": "stream",
     "text": [
      "Filter Array: ['s' 'd']\n",
      "<class 'numpy.ndarray'>\n"
     ]
    }
   ],
   "source": [
    "a = np.array(['s','b','a','d','z'])\n",
    "b = [True,False,False,True,False]\n",
    "c = a[b]                  #Assiging true to the elements we want and false to the elements we don't want in an array\n",
    "print(\"Filter Array:\",c)\n",
    "print(type(c))"
   ]
  },
  {
   "cell_type": "markdown",
   "id": "50e303d2",
   "metadata": {},
   "source": [
    "# Arithmetic Functions in NumPy Arrays\n",
    "1.Shuffle\n",
    "2.Unique\n",
    "3.Resize\n",
    "4.Flatten\n",
    "5.Ravel"
   ]
  },
  {
   "cell_type": "code",
   "execution_count": 199,
   "id": "a0732b77",
   "metadata": {},
   "outputs": [
    {
     "name": "stdout",
     "output_type": "stream",
     "text": [
      "Shuffling of array gives: [2 6 3 9 5 8 7 4 1]\n"
     ]
    }
   ],
   "source": [
    "a = np.array([1,2,3,4,5,6,7,8,9])\n",
    "np.random.shuffle(a)\n",
    "print(\"Shuffling of array gives:\",a)"
   ]
  },
  {
   "cell_type": "code",
   "execution_count": 202,
   "id": "1af81726",
   "metadata": {},
   "outputs": [
    {
     "name": "stdout",
     "output_type": "stream",
     "text": [
      "Unique Array: [ 1  2  3  4  5  6  9 87]\n"
     ]
    }
   ],
   "source": [
    "a = np.array([1,2,3,4,5,2,3,4,5,2,6,87,2,9])\n",
    "b = np.unique(a)\n",
    "print(\"Unique Array:\",b)   #Array without repetition of elements"
   ]
  },
  {
   "cell_type": "code",
   "execution_count": 203,
   "id": "fc4d6605",
   "metadata": {},
   "outputs": [
    {
     "name": "stdout",
     "output_type": "stream",
     "text": [
      "Unique Array: (array([ 1,  2,  3,  4,  5,  6,  9, 87]), array([ 0,  1,  2,  3,  4, 10, 13, 11], dtype=int64))\n"
     ]
    }
   ],
   "source": [
    "a = np.array([1,2,3,4,5,2,3,4,5,2,6,87,2,9])\n",
    "b = np.unique(a,return_index=True)  #return index with array as well\n",
    "print(\"Unique Array:\",b)   #Array without repetition of elements"
   ]
  },
  {
   "cell_type": "code",
   "execution_count": 204,
   "id": "5b274fdb",
   "metadata": {},
   "outputs": [
    {
     "name": "stdout",
     "output_type": "stream",
     "text": [
      "Unique Array: (array([ 1,  2,  3,  4,  5,  6,  9, 87]), array([ 0,  1,  2,  3,  4, 10, 13, 11], dtype=int64), array([1, 4, 2, 2, 2, 1, 1, 1], dtype=int64))\n"
     ]
    }
   ],
   "source": [
    "a = np.array([1,2,3,4,5,2,3,4,5,2,6,87,2,9])\n",
    "b = np.unique(a,return_index=True,return_counts=True)  #return index with array and count of elements in an array as well\n",
    "print(\"Unique Array:\",b)   #Array without repetition of elements"
   ]
  },
  {
   "cell_type": "code",
   "execution_count": 205,
   "id": "46fbad3b",
   "metadata": {},
   "outputs": [
    {
     "name": "stdout",
     "output_type": "stream",
     "text": [
      "Resized Array: [[1 2 3]\n",
      " [4 5 6]]\n"
     ]
    }
   ],
   "source": [
    "a = np.array([1,2,3,4,5,6])\n",
    "b = np.resize(a,(2,3))       #2 Rows and 3 Columns\n",
    "print(\"Resized Array:\",b)    #Gives a 2D array\n"
   ]
  },
  {
   "cell_type": "code",
   "execution_count": 207,
   "id": "220b72e4",
   "metadata": {},
   "outputs": [
    {
     "name": "stdout",
     "output_type": "stream",
     "text": [
      "[1 2 3 4 5 6]\n"
     ]
    }
   ],
   "source": [
    "a = np.array([[1,2],[3,4],[5,6]])\n",
    "b = a.flatten()                         #flatten() and navel() functions are used to convert 2d array into 1d Array\n",
    "print(\"Conversion of2-d array to 1-d array:\",b)\n"
   ]
  },
  {
   "cell_type": "code",
   "execution_count": 212,
   "id": "76a1b90b",
   "metadata": {},
   "outputs": [
    {
     "name": "stdout",
     "output_type": "stream",
     "text": [
      "[[1 2]\n",
      " [3 4]\n",
      " [5 6]]\n",
      "Conversion of 2-d array to 1-d array: [1 3 5 2 4 6]\n",
      "Ravel: [1 2 3 4 5 6]\n"
     ]
    }
   ],
   "source": [
    "a = np.array([[1,2],[3,4],[5,6]])\n",
    "b = a.flatten(order=\"F\")      #flatten() and navel() functions are used to convert 2d array into 1d Array\n",
    "print(a)\n",
    "print(\"Conversion of 2-d array to 1-d array:\",b)   #order=\"F\" converts 1d array columnwise\n",
    "print(\"Ravel:\",np.ravel(a,order=\"K\"))\n"
   ]
  },
  {
   "cell_type": "markdown",
   "id": "9f682cc3",
   "metadata": {},
   "source": [
    "# Insertion in NumPy Array"
   ]
  },
  {
   "cell_type": "code",
   "execution_count": 213,
   "id": "ecd2196a",
   "metadata": {},
   "outputs": [
    {
     "name": "stdout",
     "output_type": "stream",
     "text": [
      "Updated Array after Insertion: [ 1  2 40  3  4  5  6]\n"
     ]
    }
   ],
   "source": [
    "a = np.array([1,2,3,4,5,6])\n",
    "b = np.insert(a,2,40)         #np.insert(variable name,index,value)\n",
    "print(\"Updated Array after Insertion:\",b)"
   ]
  },
  {
   "cell_type": "code",
   "execution_count": 214,
   "id": "c7ab6576",
   "metadata": {},
   "outputs": [
    {
     "name": "stdout",
     "output_type": "stream",
     "text": [
      "Updated Array after Insertion: [ 1  2 40  3  4  5 40  6]\n"
     ]
    }
   ],
   "source": [
    "a = np.array([1,2,3,4,5,6])\n",
    "b = np.insert(a,(2,5),40)         #np.insert(variable name,index,value)\n",
    "print(\"Updated Array after Insertion:\",b)    "
   ]
  },
  {
   "cell_type": "code",
   "execution_count": 215,
   "id": "48a07a78",
   "metadata": {},
   "outputs": [
    {
     "name": "stdout",
     "output_type": "stream",
     "text": [
      "Updated Array after Insertion: [1 2 6 3 4 5 6 6]\n"
     ]
    }
   ],
   "source": [
    "a = np.array([1,2,3,4,5,6])\n",
    "b = np.insert(a,(2,5),6.5)         #np.insert(variable name,index,value)\n",
    "print(\"Updated Array after Insertion:\",b)    #only integer value can be inserted no float value can be inserted"
   ]
  },
  {
   "cell_type": "code",
   "execution_count": 218,
   "id": "73060af7",
   "metadata": {},
   "outputs": [
    {
     "name": "stdout",
     "output_type": "stream",
     "text": [
      "Updated Array after Insertion: [[1 2]\n",
      " [3 4]\n",
      " [6 6]\n",
      " [5 6]]\n"
     ]
    }
   ],
   "source": [
    "a = np.array([[1,2],[3,4],[5,6]])\n",
    "b = np.insert(a,2,6,axis=0)    #row-wise insertion\n",
    "print(\"Updated Array after Insertion:\",b)\n"
   ]
  },
  {
   "cell_type": "code",
   "execution_count": 219,
   "id": "9d5049aa",
   "metadata": {},
   "outputs": [
    {
     "name": "stdout",
     "output_type": "stream",
     "text": [
      "Updated Array after Insertion: [[ 1  2]\n",
      " [ 3  4]\n",
      " [22 23]\n",
      " [ 5  6]]\n"
     ]
    }
   ],
   "source": [
    "a = np.array([[1,2],[3,4],[5,6]])\n",
    "b = np.insert(a,2,[22,23],axis=0)    #row-wise insertion\n",
    "print(\"Updated Array after Insertion:\",b)   #.append() functions inserts the element at the end of an array"
   ]
  },
  {
   "cell_type": "code",
   "execution_count": 222,
   "id": "52298997",
   "metadata": {},
   "outputs": [
    {
     "name": "stdout",
     "output_type": "stream",
     "text": [
      "Updated Array after Insertion: [1.  2.  3.  4.  5.  6.  6.5]\n"
     ]
    }
   ],
   "source": [
    "a = np.array([1,2,3,4,5,6])\n",
    "b = np.append(a,6.5)         #np.append(variable name,index,value)\n",
    "print(\"Updated Array after Insertion:\",b)    #np.append() is used to add or insert float values at the end of an array"
   ]
  },
  {
   "cell_type": "markdown",
   "id": "c1058907",
   "metadata": {},
   "source": [
    "# Deletion of an element from an array"
   ]
  },
  {
   "cell_type": "code",
   "execution_count": 223,
   "id": "f6590e95",
   "metadata": {},
   "outputs": [
    {
     "name": "stdout",
     "output_type": "stream",
     "text": [
      "Updated array after deletion:  [1 2 4 5 6]\n"
     ]
    }
   ],
   "source": [
    "a = np.array([1,2,3,4,5,6])\n",
    "b = np.delete(a,2)        #np.delete(variable name,index)\n",
    "print(\"Updated array after deletion: \",b)"
   ]
  },
  {
   "cell_type": "markdown",
   "id": "82ead20e",
   "metadata": {},
   "source": [
    "# Matrix in NumPy Array"
   ]
  },
  {
   "cell_type": "code",
   "execution_count": 228,
   "id": "b3d39103",
   "metadata": {},
   "outputs": [
    {
     "name": "stdout",
     "output_type": "stream",
     "text": [
      "Matrix: [[1 2 3]\n",
      " [4 5 6]]\n",
      "<class 'numpy.matrix'>\n",
      "\n",
      "Matrix Addition: [[ 2  4  6]\n",
      " [ 8 10 12]]\n"
     ]
    }
   ],
   "source": [
    "#Addition and Subtractrion of matrix and NumPy arrays gives us the same results\n",
    "\n",
    "a = np.matrix([[1,2,3],[4,5,6]])\n",
    "b = np.matrix([[1,2,3],[4,5,6]])\n",
    "print(\"Matrix:\",a)\n",
    "print(type(a))\n",
    "print()\n",
    "print(\"Matrix Addition:\",a + b)\n"
   ]
  },
  {
   "cell_type": "code",
   "execution_count": 229,
   "id": "bf7b3419",
   "metadata": {},
   "outputs": [
    {
     "name": "stdout",
     "output_type": "stream",
     "text": [
      "NumPy 2d array: [[1 2 3]\n",
      " [4 5 6]]\n",
      "<class 'numpy.ndarray'>\n",
      "\n",
      "NumPy Addition of arrays: [[ 2  4  6]\n",
      " [ 8 10 12]]\n"
     ]
    }
   ],
   "source": [
    "a = np.array([[1,2,3],[4,5,6]])\n",
    "b = np.array([[1,2,3],[4,5,6]])\n",
    "print(\"NumPy 2d array:\",a)\n",
    "print(type(a))\n",
    "print()\n",
    "print(\"NumPy Addition of arrays:\",a + b)"
   ]
  },
  {
   "cell_type": "code",
   "execution_count": 232,
   "id": "6dee8b17",
   "metadata": {},
   "outputs": [
    {
     "name": "stdout",
     "output_type": "stream",
     "text": [
      "Dot Product Multiplication: [[ 9 12]\n",
      " [24 33]]\n"
     ]
    }
   ],
   "source": [
    "#Dot Matrix Multiplication \n",
    "a = np.matrix([[1,2],[4,5]])\n",
    "b = np.matrix([[1,2],[4,5]])\n",
    "print(\"Dot Product Multiplication:\",a.dot(b))"
   ]
  },
  {
   "cell_type": "code",
   "execution_count": 233,
   "id": "40479c19",
   "metadata": {},
   "outputs": [
    {
     "name": "stdout",
     "output_type": "stream",
     "text": [
      "Multiplication of NumPy arrays: [[ 1  4  9]\n",
      " [16 25 36]]\n"
     ]
    }
   ],
   "source": [
    "a = np.array([[1,2,3],[4,5,6]])\n",
    "b = np.array([[1,2,3],[4,5,6]])\n",
    "print(\"Multiplication of NumPy arrays:\",a*b)"
   ]
  },
  {
   "cell_type": "markdown",
   "id": "fef74df7",
   "metadata": {},
   "source": [
    "# Matrix Functions in NumPy Arrays\n",
    "1. Transpose\n",
    "2. Swapaxes\n",
    "3. Inverse\n",
    "4. Power\n",
    "5. Determinate"
   ]
  },
  {
   "cell_type": "code",
   "execution_count": 236,
   "id": "c1133194",
   "metadata": {},
   "outputs": [
    {
     "name": "stdout",
     "output_type": "stream",
     "text": [
      "Matrix: [[1 2 3]\n",
      " [4 5 6]]\n",
      "Transpose of a Matrix: [[1 4]\n",
      " [2 5]\n",
      " [3 6]]\n",
      "\n",
      "Transpose of a Matrix: [[1 4]\n",
      " [2 5]\n",
      " [3 6]]\n"
     ]
    }
   ],
   "source": [
    "#Transpose of a Matrix\n",
    "a = np.matrix([[1,2,3],[4,5,6]])\n",
    "print(\"Matrix:\",a)\n",
    "print(\"Transpose of a Matrix:\",np.transpose(a))  #np.transpose() takes the transpose of a matrix\n",
    "print()\n",
    "print(\"Transpose of a Matrix:\",a.T)"
   ]
  },
  {
   "cell_type": "code",
   "execution_count": 238,
   "id": "e3bafd18",
   "metadata": {},
   "outputs": [
    {
     "name": "stdout",
     "output_type": "stream",
     "text": [
      "Matrix: [[1 2 3]\n",
      " [4 5 6]]\n",
      "\n",
      "Swapping the axes gives us: [[1 4]\n",
      " [2 5]\n",
      " [3 6]]\n"
     ]
    }
   ],
   "source": [
    "#Swapping the axes of the matrix\n",
    "a = np.matrix([[1,2,3],[4,5,6]])\n",
    "print(\"Matrix:\",a)\n",
    "print()\n",
    "print(\"Swapping the axes gives us:\",np.swapaxes(a,0,1))  #swaps the axes"
   ]
  },
  {
   "cell_type": "code",
   "execution_count": 239,
   "id": "719222e0",
   "metadata": {},
   "outputs": [
    {
     "name": "stdout",
     "output_type": "stream",
     "text": [
      "Matrix: [[1 2]\n",
      " [3 4]]\n",
      "\n",
      "Swapping the axes gives us: [[1 3]\n",
      " [2 4]]\n"
     ]
    }
   ],
   "source": [
    "a = np.matrix([[1,2],[3,4]])\n",
    "print(\"Matrix:\",a)\n",
    "print()\n",
    "print(\"Swapping the axes gives us:\",np.swapaxes(a,0,1))  #swaps the axes"
   ]
  },
  {
   "cell_type": "code",
   "execution_count": 240,
   "id": "b57be09c",
   "metadata": {},
   "outputs": [
    {
     "name": "stdout",
     "output_type": "stream",
     "text": [
      "Matrix: [[1 2]\n",
      " [3 4]]\n",
      "\n",
      "Inverse of a Matrix: [[-2.   1. ]\n",
      " [ 1.5 -0.5]]\n"
     ]
    }
   ],
   "source": [
    "#Inverse of a Matrix\n",
    "a = np.matrix([[1,2],[3,4]])\n",
    "print(\"Matrix:\",a)\n",
    "print()\n",
    "print(\"Inverse of a Matrix:\",np.linalg.inv(a))  #np.linalg.inv(variable name) is used to inverse a matrix"
   ]
  },
  {
   "cell_type": "code",
   "execution_count": 242,
   "id": "47a1457e",
   "metadata": {},
   "outputs": [
    {
     "name": "stdout",
     "output_type": "stream",
     "text": [
      "Matrix: [[1 2]\n",
      " [3 4]]\n",
      "\n",
      "Power of a Matrix: [[ 7 10]\n",
      " [15 22]]\n",
      "\n",
      "Power of a Matrix: [[1 0]\n",
      " [0 1]]\n",
      "\n",
      "Power of a Matrix: [[ 5.5  -2.5 ]\n",
      " [-3.75  1.75]]\n"
     ]
    }
   ],
   "source": [
    "#Power of a Matrix\n",
    "a = np.matrix([[1,2],[3,4]])\n",
    "print(\"Matrix:\",a)\n",
    "print()\n",
    "print(\"Power of a Matrix:\",np.linalg.matrix_power(a,2))   #np.linalg.matrix_power(variable name,power)\n",
    "print()\n",
    "print(\"Power of a Matrix:\",np.linalg.matrix_power(a,0))   #when power=0, we get an Identity Matrix\n",
    "print()\n",
    "print(\"Power of a Matrix:\",np.linalg.matrix_power(a,-2))  #When power<0, Power of a Matrix = Inverse * Power"
   ]
  },
  {
   "cell_type": "code",
   "execution_count": 244,
   "id": "ccec602a",
   "metadata": {},
   "outputs": [
    {
     "name": "stdout",
     "output_type": "stream",
     "text": [
      "Matrix: [[1 2 3]\n",
      " [3 4 5]\n",
      " [6 7 8]]\n",
      "\n",
      "Determinate of a Matrix: -3.7007434154172e-17\n",
      "\n"
     ]
    }
   ],
   "source": [
    "#Determinate of a Matrix\n",
    "a = np.matrix([[1,2,3],[3,4,5],[6,7,8]])\n",
    "print(\"Matrix:\",a)\n",
    "print()\n",
    "print(\"Determinate of a Matrix:\",np.linalg.det(a))#np.linalg.det(variable name) is used to find the determinant of a matrix\n",
    "print()\n"
   ]
  },
  {
   "cell_type": "code",
   "execution_count": null,
   "id": "bf87d9b1",
   "metadata": {},
   "outputs": [],
   "source": []
  }
 ],
 "metadata": {
  "kernelspec": {
   "display_name": "Python 3 (ipykernel)",
   "language": "python",
   "name": "python3"
  },
  "language_info": {
   "codemirror_mode": {
    "name": "ipython",
    "version": 3
   },
   "file_extension": ".py",
   "mimetype": "text/x-python",
   "name": "python",
   "nbconvert_exporter": "python",
   "pygments_lexer": "ipython3",
   "version": "3.9.13"
  }
 },
 "nbformat": 4,
 "nbformat_minor": 5
}
